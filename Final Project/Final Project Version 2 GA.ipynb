{
 "cells": [
  {
   "cell_type": "code",
   "execution_count": 1,
   "metadata": {},
   "outputs": [],
   "source": [
    "#Final Project version2"
   ]
  },
  {
   "cell_type": "code",
   "execution_count": 20,
   "metadata": {},
   "outputs": [],
   "source": [
    "def casesensitivity(answer,correct):\n",
    "     \n",
    "    inputlist=[answer.lower(),answer.upper(),answer.capitalize]\n",
    "        \n",
    "    for i in range(3):\n",
    "        if inputlist[i]==correct:\n",
    "            return True\n",
    "            break\n",
    "        else:\n",
    "            return False\n",
    "    "
   ]
  },
  {
   "cell_type": "code",
   "execution_count": 23,
   "metadata": {},
   "outputs": [
    {
     "name": "stdout",
     "output_type": "stream",
     "text": [
      "Which mammal has a gestation period of 2 years? \n",
      "Which adult animal sleeps for 12 hours a day and eats for the next 12 hours? panda\n",
      "Which animal sleeps 20 hours a day? cat\n",
      "Which animals nose prints are unique,like human fingerprints, and do they identify each other in this way? panda\n",
      "Which animals taste buds are in their feet? bee\n",
      "Which animal reaches a speed of 0 to 96 km in 3 seconds ?cheetah\n",
      "What is the only living creature that walks cross on Earth? king crab\n",
      "What kind of bird can stay in the air for a day without flapping its wings ?albatroz\n",
      "Which animal can sleep for four years? snail\n",
      "Which animal eats 9 kg of meat a day? wolf\n",
      "Congratulations! You scored  50  points.\n"
     ]
    }
   ],
   "source": [
    "correctanswers=5\n",
    "points=0\n",
    "    \n",
    "while correctanswers>=0:\n",
    "    Q1=input('Which mammal has a gestation period of 2 years? ')\n",
    "    if casesensitivity(Q1,'elephant')==True:\n",
    "        correctanswers+=1\n",
    "        points+=10\n",
    "    else:\n",
    "        correctanswers-=1\n",
    "    Q2=input('Which adult animal sleeps for 12 hours a day and eats for the next 12 hours? ')\n",
    "    if casesensitivity(Q2,'panda')==True:\n",
    "        correctanswers+=1\n",
    "        points+=10\n",
    "    else:\n",
    "        correctanswers-=1\n",
    "    Q3=input('Which animal sleeps 20 hours a day? ')\n",
    "    if casesensitivity(Q3,'sloth')==True:\n",
    "        correctanswers+=1\n",
    "        points+=10\n",
    "    else:\n",
    "        correctanswers-=1\n",
    "    Q4=input('Which animals nose prints are unique,like human fingerprints, and do they identify each other in this way? ')\n",
    "    if casesensitivity(Q4,'dog')==True:\n",
    "        correctanswers+=1\n",
    "        points+=10\n",
    "    else:\n",
    "        correctanswers-=1\n",
    "    Q5=input('Which animals taste buds are in their feet? ')\n",
    "    if casesensitivity(Q5,'butterfly')==True:\n",
    "        correctanswers+=1\n",
    "        points+=10\n",
    "    else:\n",
    "        correctanswers-=1\n",
    "    Q6=input('Which animal reaches a speed of 0 to 96 km in 3 seconds ?')\n",
    "    if casesensitivity(Q6,'cheetah')==True:\n",
    "        correctanswers+=1\n",
    "        points+=10\n",
    "    else:\n",
    "        correctanswers-=1\n",
    "    Q7=input('What is the only living creature that walks cross on Earth? ')\n",
    "    if casesensitivity(Q7,'king crab')==True:\n",
    "        correctanswers+=1\n",
    "        points+=10\n",
    "    else:\n",
    "        correctanswers-=1\n",
    "    Q8=input('What kind of bird can stay in the air for a day without flapping its wings ?')\n",
    "    if casesensitivity(Q8,'albatross')==True:\n",
    "        correctanswers+=1\n",
    "        points+=10\n",
    "    else:\n",
    "        correctanswers-=1\n",
    "    Q9=input('Which animal can sleep for four years? ')\n",
    "    if casesensitivity(Q9,'snail')==True:\n",
    "        correctanswers+=1\n",
    "        points+=10\n",
    "    else:\n",
    "        correctanswers-=1\n",
    "    Q10=input('Which animal eats 9 kg of meat a day? ')\n",
    "    if casesensitivity(Q10,'wolf')==True:\n",
    "        correctanswers+=1\n",
    "        points+=10\n",
    "    else:\n",
    "        correctanswers-=1\n",
    "\n",
    "    break\n",
    "        \n",
    "if points>=50:\n",
    "    print('Congratulations! You scored ',points,' points.')\n",
    "else:\n",
    "    print('You should work hard mate.. You scored only ',points,' points.')"
   ]
  },
  {
   "cell_type": "code",
   "execution_count": null,
   "metadata": {},
   "outputs": [],
   "source": []
  }
 ],
 "metadata": {
  "kernelspec": {
   "display_name": "Python 3",
   "language": "python",
   "name": "python3"
  },
  "language_info": {
   "codemirror_mode": {
    "name": "ipython",
    "version": 3
   },
   "file_extension": ".py",
   "mimetype": "text/x-python",
   "name": "python",
   "nbconvert_exporter": "python",
   "pygments_lexer": "ipython3",
   "version": "3.8.5"
  }
 },
 "nbformat": 4,
 "nbformat_minor": 4
}
