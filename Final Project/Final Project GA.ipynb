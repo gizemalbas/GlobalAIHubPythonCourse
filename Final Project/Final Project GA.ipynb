{
 "cells": [
  {
   "cell_type": "code",
   "execution_count": 1,
   "metadata": {},
   "outputs": [],
   "source": [
    "#Final Project"
   ]
  },
  {
   "cell_type": "code",
   "execution_count": 20,
   "metadata": {},
   "outputs": [
    {
     "name": "stdout",
     "output_type": "stream",
     "text": [
      "Which mammal has a gestation period of 2 years? lion\n",
      "Which adult animal sleeps for 12 hours a day and eats for the next 12 hours? lion\n",
      "Which animal sleeps 20 hours a day? lion\n",
      "Which animals nose prints are unique,like human fingerprints, and do they identify each other in this way? lion\n",
      "Which animals taste buds are in their feet? lion\n",
      "Which animal reaches a speed of 0 to 96 km in 3 seconds ?lion\n",
      "What is the only living creature that walks cross on Earth? liob\n",
      "What kind of bird can stay in the air for a day without flapping its wings ?lion\n",
      "Which animal can sleep for four years? lion\n",
      "Which animal eats 9 kg of meat a day? lion\n",
      "You should work hard mate.. You scored only  0  points.\n"
     ]
    }
   ],
   "source": [
    "correctanswers=5\n",
    "points=0\n",
    "    \n",
    "\n",
    "while correctanswers>=0:\n",
    "    Q1=input('Which mammal has a gestation period of 2 years? ')\n",
    "    if Q1=='Elephant' or Q1.lower()=='elephant' or Q1.upper()=='ELEPHANT':\n",
    "                 correctanswers+=1\n",
    "                 points+=10\n",
    "    else:\n",
    "                 correctanswers-=1\n",
    "    Q2=input('Which adult animal sleeps for 12 hours a day and eats for the next 12 hours? ')\n",
    "    if Q2=='Panda' or Q2.lower()=='panda'or Q2.upper()=='PANDA':\n",
    "                correctanswers+=1\n",
    "                points+=10\n",
    "    else:\n",
    "                correctanswers-=1\n",
    "    Q3=input('Which animal sleeps 20 hours a day? ')\n",
    "    if Q3=='Sloth' or Q3.lower()=='sloth' or Q3.upper()=='SLOTH':\n",
    "                correctanswers+=1\n",
    "                points+=10\n",
    "    else:\n",
    "                correctanswers-=1\n",
    "    Q4=input('Which animals nose prints are unique,like human fingerprints, and do they identify each other in this way? ')\n",
    "    if Q4=='Dog' or Q4.lower()=='dog' or Q4.upper()=='DOG':\n",
    "                correctanswers+=1\n",
    "                points+=10\n",
    "    else:\n",
    "                correctanswers-=1\n",
    "    Q5=input('Which animals taste buds are in their feet? ')\n",
    "    if Q5=='Butterfly' or Q5.lower()=='butterfly' or Q5.upper()=='BUTTERFLY':\n",
    "                correctanswers+=1\n",
    "                points+=10\n",
    "    else:\n",
    "                correctanswers-=1\n",
    "    Q6=input('Which animal reaches a speed of 0 to 96 km in 3 seconds ?')\n",
    "    if Q6=='Cheetah' or Q6.lower()=='cheetah' or Q6.upper()=='CHEETAH':\n",
    "                correctanswers+=1\n",
    "                points+=10\n",
    "    else:\n",
    "                correctanswers-=1\n",
    "    Q7=input('What is the only living creature that walks cross on Earth? ')\n",
    "    if Q7=='King crab' or Q7.lower()=='king crab' or Q7.upper()=='KING CRAB' or Q7.capitalize()=='King Crab':\n",
    "                correctanswers+=1\n",
    "                points+=10\n",
    "    else:\n",
    "                correctanswers-=1\n",
    "    Q8=input('What kind of bird can stay in the air for a day without flapping its wings ?')\n",
    "    if Q8=='Albatross' or Q8.lower=='albatross' or Q8.upper()=='ALBATROSS':\n",
    "                correctanswers+=1\n",
    "                points+=10\n",
    "    else:\n",
    "                correctanswers-=1\n",
    "    Q9=input('Which animal can sleep for four years? ')\n",
    "    if Q9=='Snail' or Q9.lower()=='snail' or Q9.upper()=='SNAIL':\n",
    "                correctanswers+=1\n",
    "                points+=10\n",
    "    else:\n",
    "                correctanswers-=1\n",
    "    Q10=input('Which animal eats 9 kg of meat a day? ')\n",
    "    if Q10=='Wolf' or Q10.lower()=='wolf' or Q10.upper()=='WOLF':\n",
    "                correctanswers+=1\n",
    "                points+=10\n",
    "    else:\n",
    "                correctanswers-=1\n",
    "\n",
    "    break\n",
    "        \n",
    "if points>=50:\n",
    "    print('Congratulations! You scored ',points,' points.')\n",
    "else:\n",
    "    print('You should work hard mate.. You scored only ',points,' points.')\n",
    "                "
   ]
  },
  {
   "cell_type": "code",
   "execution_count": null,
   "metadata": {},
   "outputs": [],
   "source": []
  }
 ],
 "metadata": {
  "kernelspec": {
   "display_name": "Python 3",
   "language": "python",
   "name": "python3"
  },
  "language_info": {
   "codemirror_mode": {
    "name": "ipython",
    "version": 3
   },
   "file_extension": ".py",
   "mimetype": "text/x-python",
   "name": "python",
   "nbconvert_exporter": "python",
   "pygments_lexer": "ipython3",
   "version": "3.8.5"
  }
 },
 "nbformat": 4,
 "nbformat_minor": 4
}
