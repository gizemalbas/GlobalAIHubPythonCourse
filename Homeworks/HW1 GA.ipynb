{
 "cells": [
  {
   "cell_type": "code",
   "execution_count": 3,
   "metadata": {},
   "outputs": [
    {
     "name": "stdout",
     "output_type": "stream",
     "text": [
      "[0, 1, 2, 3, 4, 5, 6, 7]\n",
      "[0, 1, 2, 3]\n",
      "[4, 5, 6, 7, 0, 1, 2, 3]\n"
     ]
    }
   ],
   "source": [
    "#HW1\n",
    "\n",
    "'''8 lik bir rangede liste olusturup, yariya boluyor ilk yarisiyla son yarisinin yerini degistiriyor'''\n",
    "mylist=list(range(8))\n",
    "firsthalf=mylist[0:4]\n",
    "secondhalf=mylist[4:]\n",
    "secondhalf.extend(firsthalf)\n",
    "print(mylist)\n",
    "print(firsthalf)\n",
    "print(secondhalf)\n"
   ]
  },
  {
   "cell_type": "code",
   "execution_count": null,
   "metadata": {},
   "outputs": [],
   "source": [
    "'''kullanicidan 1 ve 50 arasinda bir cift sayi aliyor onu range belirleyip bir liste olusturuyor, ve bu listeyi\n",
    "ikiye bolup ilk yarisi ve sonrasinin yerini degistiriyor'''\n",
    "\n",
    "x=int(input('Enter an even number between 1 to 50: '))\n",
    "star=list(range(x))\n",
    "y=int(x/2)\n",
    "star1=star[0:y]  #first half of the list\n",
    "star2=star[y:]   #second half of the list\n",
    "\n",
    "if x%2==0:\n",
    "    star2.extend(star1)\n",
    "    print(star2)\n",
    "else:\n",
    "    m=int(input('Please enter an even number between 1 to 50: '))\n",
    "    while m%2!=0:\n",
    "        m=int(input('Please enter an even number between 1 to 50: '))\n",
    "        moon=list(range(m))\n",
    "        moon1=moon[0:int(m/2)]\n",
    "        moon2=moon[int(m/2):]\n",
    "        if m%2==0:  \n",
    "            moon2.extend(moon1)\n",
    "            print(moon2)\n"
   ]
  },
  {
   "cell_type": "code",
   "execution_count": 42,
   "metadata": {},
   "outputs": [
    {
     "name": "stdout",
     "output_type": "stream",
     "text": [
      "Please enter a single digit integer number: 5\n",
      "[0, 1, 2, 3, 4, 5]\n",
      "2\n",
      "4\n"
     ]
    }
   ],
   "source": [
    "'''kullanicidan tek haneli sayi alip onla bir liste donduruyor ve listedeki 2 ile bolunebilen sayilari soyluyor'''\n",
    "\n",
    "n=int(input('Please enter a single digit integer number: '))\n",
    "makealist=list(range(n+1))\n",
    "print(makealist)\n",
    "i=0\n",
    "while i<len(makealist):\n",
    "    if i%2==0 and i!=0:\n",
    "        print(i)\n",
    "    i+=1\n",
    "else: \n",
    "    i+=1\n"
   ]
  },
  {
   "cell_type": "code",
   "execution_count": null,
   "metadata": {},
   "outputs": [],
   "source": []
  }
 ],
 "metadata": {
  "kernelspec": {
   "display_name": "Python 3",
   "language": "python",
   "name": "python3"
  },
  "language_info": {
   "codemirror_mode": {
    "name": "ipython",
    "version": 3
   },
   "file_extension": ".py",
   "mimetype": "text/x-python",
   "name": "python",
   "nbconvert_exporter": "python",
   "pygments_lexer": "ipython3",
   "version": "3.8.5"
  }
 },
 "nbformat": 4,
 "nbformat_minor": 4
}
