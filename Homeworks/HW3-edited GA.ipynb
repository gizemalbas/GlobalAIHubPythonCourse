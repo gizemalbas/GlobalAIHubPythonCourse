{
 "cells": [
  {
   "cell_type": "code",
   "execution_count": 1,
   "metadata": {},
   "outputs": [],
   "source": [
    "#HW3"
   ]
  },
  {
   "cell_type": "code",
   "execution_count": 131,
   "metadata": {},
   "outputs": [
    {
     "name": "stdout",
     "output_type": "stream",
     "text": [
      "Please enter your name: gizem\n",
      "Please enter your midterm grade: 12\n",
      "Please enter your project grade: 3\n",
      "Please enter your final grade: 45\n",
      "Please enter your name: ahmet\n",
      "Please enter your midterm grade: 0\n",
      "Please enter your project grade: 0\n",
      "Please enter your final grade: 0\n",
      "Please enter your name: hakan\n",
      "Please enter your midterm grade: 45\n",
      "Please enter your project grade: 65\n",
      "Please enter your final grade: 76\n",
      "Please enter your name: burcin\n",
      "Please enter your midterm grade: 45\n",
      "Please enter your project grade: 67\n",
      "Please enter your final grade: 87\n",
      "Please enter your name: zahide\n",
      "Please enter your midterm grade: 10\n",
      "Please enter your project grade: 90\n",
      "Please enter your final grade: 200\n",
      "{1: {'name': 'gizem', 'midterm': 12, 'project': 3, 'final': 45, 'pass': 22}, 2: {'name': 'ahmet', 'midterm': 0, 'project': 0, 'final': 0, 'pass': 0}, 3: {'name': 'hakan', 'midterm': 45, 'project': 65, 'final': 76, 'pass': 63}, 4: {'name': 'burcin', 'midterm': 45, 'project': 67, 'final': 87, 'pass': 68}, 5: {'name': 'zahide', 'midterm': 10, 'project': 90, 'final': 200, 'pass': 110}}\n",
      "\n",
      "{'gizem': 22, 'ahmet': 0, 'hakan': 63, 'burcin': 68, 'zahide': 110}\n",
      "\n",
      "[('zahide', 110), ('burcin', 68), ('hakan', 63), ('gizem', 22), ('ahmet', 0)]\n"
     ]
    }
   ],
   "source": [
    "studentinfo={}\n",
    "success={}\n",
    "\n",
    "for i in range(1,6):\n",
    "    student=input('Please enter your name: ')  #student name\n",
    "    gradem=int(input('Please enter your midterm grade: ')) #midterm grade\n",
    "    gradep=int(input('Please enter your project grade: ')) #project grade\n",
    "    gradef=int(input('Please enter your final grade: '))   #final grade\n",
    "    passinggrade=round((gradem*0.3)+(gradep*0.3)+(gradef*0.4))  #passing grade formula\n",
    "    studentinfo[i]={'name':student,\n",
    "                    'midterm':gradem,\n",
    "                    'project':gradep,\n",
    "                    'final':gradef,\n",
    "                    'pass':passinggrade}\n",
    "    success[student]=passinggrade              \n",
    "    sorted_success=sorted(success.items(),key=lambda x:x[1],reverse=True) #I found a method to sort dictionaries\n",
    "\n",
    "print(studentinfo) \n",
    "print('')\n",
    "print(success)\n",
    "print('')\n",
    "print(sorted_success)"
   ]
  },
  {
   "cell_type": "markdown",
   "metadata": {},
   "source": []
  }
 ],
 "metadata": {
  "kernelspec": {
   "display_name": "Python 3",
   "language": "python",
   "name": "python3"
  },
  "language_info": {
   "codemirror_mode": {
    "name": "ipython",
    "version": 3
   },
   "file_extension": ".py",
   "mimetype": "text/x-python",
   "name": "python",
   "nbconvert_exporter": "python",
   "pygments_lexer": "ipython3",
   "version": "3.8.5"
  }
 },
 "nbformat": 4,
 "nbformat_minor": 4
}
