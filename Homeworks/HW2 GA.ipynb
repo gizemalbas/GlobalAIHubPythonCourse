{
 "cells": [
  {
   "cell_type": "code",
   "execution_count": 1,
   "metadata": {},
   "outputs": [],
   "source": [
    "#HW2"
   ]
  },
  {
   "cell_type": "code",
   "execution_count": 12,
   "metadata": {},
   "outputs": [
    {
     "name": "stdout",
     "output_type": "stream",
     "text": [
      "Please enter your username (case sensitive): gizem\n",
      "Please enter your password: albas\n",
      "The username and password are incorrect.\n",
      "Please enter your username (case sensitive): gizem\n",
      "Please enter your password: 1309\n",
      "The username is incorrect.\n",
      "Please enter your username (case sensitive): Gizem\n",
      "Please enter your password: 1309\n",
      "You are successfully logged in.\n"
     ]
    }
   ],
   "source": [
    "name='Gizem'\n",
    "password='1309'\n",
    "\n",
    "name1=input('Please enter your username (case sensitive): ')\n",
    "password1=input('Please enter your password: ')\n",
    "\n",
    "if name==name1 and password==password1:\n",
    "    print('You are successfully logged in.')\n",
    "else:\n",
    "    while name!=name1 or password!=password1:\n",
    "        \n",
    "        if name!=name1 and password!=password1:\n",
    "            print('The username and password are incorrect.')        \n",
    "        elif name!=name1 and password==password1:\n",
    "            print('The username is incorrect.')\n",
    "        else:\n",
    "            print('The password is incorrect.')\n",
    "        name2=input('Please enter your username (case sensitive): ')\n",
    "        password2=input('Please enter your password: ')\n",
    "        name1=name2\n",
    "        password1=password2\n",
    "            \n",
    "print('You are successfully logged in.')"
   ]
  },
  {
   "cell_type": "code",
   "execution_count": 25,
   "metadata": {},
   "outputs": [
    {
     "name": "stdout",
     "output_type": "stream",
     "text": [
      "Please enter your nickname to login (case sensitive): gizem\n",
      "Please enter your passcode to login (case sensitive): albas\n",
      "The username and password are incorrect.\n",
      "Please enter your nickname to login (case sensitive): gizthepanda\n",
      "Please enter your passcode to login (case sensitive): 1234\n",
      "The password is incorrect.\n",
      "Please enter your nickname to login (case sensitive): 1234\n",
      "Please enter your passcode to login (case sensitive): Gizemisthebest\n",
      "The username is incorrect.\n",
      "Please enter your nickname to login (case sensitive): gizthepanda\n",
      "Please enter your passcode to login (case sensitive): Gizemisthebest\n",
      "Bravoo..\n"
     ]
    }
   ],
   "source": [
    "'''Kullanicidan kullanici adi ve sifreyle giris yapmasi isteniyor'''\n",
    "\n",
    "import random as rnd\n",
    "\n",
    "nick='gizthepanda'\n",
    "passcode='Gizemisthebest'\n",
    "\n",
    "nick1=input('Please enter your nickname to login (case sensitive): ')\n",
    "passcode1=input('Please enter your passcode to login (case sensitive): ')\n",
    "\n",
    "congrats=['You are logged in!','You are in man!','Hell yeah!','ClapClapClap!']\n",
    "finaldestination=['Finally..','Bravoo..','For good..']\n",
    "\n",
    "correctcombination=[nick,passcode]\n",
    "isitcorrectcombination=[nick1,passcode1]\n",
    "\n",
    "if correctcombination[0]==isitcorrectcombination[0] and correctcombination[1]==isitcorrectcombination[1]:\n",
    "    print(congrats[(rnd.randint(0,len(congrats)-1))])\n",
    "    #Ilk seferde dogru kombinasyon girilirse congrats listesinden random bir yazi bastiriliyor\n",
    "else:\n",
    "    while correctcombination[0]!=isitcorrectcombination[0] or correctcombination[1]!=isitcorrectcombination[1]:\n",
    "        \n",
    "        if correctcombination[0]!=isitcorrectcombination[0] and correctcombination[1]!=isitcorrectcombination[1]:\n",
    "            print('The username and password are incorrect.')   \n",
    "            \n",
    "        elif correctcombination[0]!=isitcorrectcombination[0] and correctcombination[1]==isitcorrectcombination[1]:\n",
    "            print('The username is incorrect.')\n",
    "        else:\n",
    "            \n",
    "            print('The password is incorrect.')\n",
    "            \n",
    "        nick2=input('Please enter your nickname to login (case sensitive): ')\n",
    "        passcode2=input('Please enter your passcode to login (case sensitive): ')\n",
    "        comb=[nick2,passcode2]\n",
    "        isitcorrectcombination[0]=comb[0]\n",
    "        isitcorrectcombination[1]=comb[1]\n",
    "        \n",
    "print(finaldestination[(rnd.randint(0,len(finaldestination)-1))])\n",
    "#Yanlis girdilerden sonra dogru kombinasyon yakalaninca finaldestination listesinden random bir yazi geliyor"
   ]
  },
  {
   "cell_type": "code",
   "execution_count": null,
   "metadata": {},
   "outputs": [],
   "source": []
  }
 ],
 "metadata": {
  "kernelspec": {
   "display_name": "Python 3",
   "language": "python",
   "name": "python3"
  },
  "language_info": {
   "codemirror_mode": {
    "name": "ipython",
    "version": 3
   },
   "file_extension": ".py",
   "mimetype": "text/x-python",
   "name": "python",
   "nbconvert_exporter": "python",
   "pygments_lexer": "ipython3",
   "version": "3.8.5"
  }
 },
 "nbformat": 4,
 "nbformat_minor": 4
}
